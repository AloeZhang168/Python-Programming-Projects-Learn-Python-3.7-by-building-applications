{
 "cells": [
  {
   "cell_type": "code",
   "execution_count": 118,
   "metadata": {},
   "outputs": [],
   "source": [
    "import requests as rq\n",
    "from bs4 import BeautifulSoup\n",
    "import json"
   ]
  },
  {
   "cell_type": "markdown",
   "metadata": {},
   "source": [
    "### Task\n",
    "\n",
    "Collect a tabular dataset of all battles of WWII from wikipedia.\n",
    "for each battle collect it's theater, location, date, outcomes and as much of additional info as there is"
   ]
  },
  {
   "cell_type": "code",
   "execution_count": 119,
   "metadata": {},
   "outputs": [],
   "source": [
    "base_url = 'https://en.wikipedia.org/wiki/List_of_World_War_II_battles'"
   ]
  },
  {
   "cell_type": "code",
   "execution_count": 121,
   "metadata": {},
   "outputs": [],
   "source": [
    "def _default_collect(url):\n",
    "    '''returns document from url as a BS DOM'''\n",
    "    response = rq.get(url)\n",
    "    response.raise_for_status()\n",
    "    return BeautifulSoup(response.content, 'html.parser')"
   ]
  },
  {
   "cell_type": "code",
   "execution_count": 122,
   "metadata": {},
   "outputs": [],
   "source": [
    "soup = _default_collect(base_url)"
   ]
  },
  {
   "cell_type": "code",
   "execution_count": null,
   "metadata": {},
   "outputs": [],
   "source": []
  },
  {
   "cell_type": "code",
   "execution_count": 123,
   "metadata": {},
   "outputs": [],
   "source": [
    "content = soup.find('div', id='mw-content-text')"
   ]
  },
  {
   "cell_type": "code",
   "execution_count": 124,
   "metadata": {},
   "outputs": [],
   "source": [
    "fronts = [el.text [:-6]for el in content.find_all('h2')[1:-1]]"
   ]
  },
  {
   "cell_type": "code",
   "execution_count": 125,
   "metadata": {},
   "outputs": [
    {
     "data": {
      "text/plain": [
       "9"
      ]
     },
     "execution_count": 125,
     "metadata": {},
     "output_type": "execute_result"
    }
   ],
   "source": [
    "len(content.find_all(\"div\", \"div-col columns column-width\"))"
   ]
  },
  {
   "cell_type": "code",
   "execution_count": 126,
   "metadata": {},
   "outputs": [],
   "source": [
    "ul = content.find_all(\"div\", \"div-col columns column-width\")[0].ul"
   ]
  },
  {
   "cell_type": "code",
   "execution_count": 138,
   "metadata": {},
   "outputs": [],
   "source": [
    "def dictify(ul, level=0):\n",
    "    result = dict()\n",
    "    \n",
    "    for li in ul.find_all(\"li\", recursive=False):\n",
    "        text = li.stripped_strings\n",
    "        key = next(text)\n",
    "        try:\n",
    "            time = next(text)\n",
    "        except StopIteration:\n",
    "            time = None\n",
    "\n",
    "        ul, link = li.find(\"ul\"), li.find('a')\n",
    "        if link:\n",
    "            link = 'https://en.wikipedia.org' + link.get('href')\n",
    "            \n",
    "        nextlevel = level + 1\n",
    "\n",
    "        r ={'url': link,\n",
    "            'time':time,\n",
    "            'level': nextlevel} \n",
    "        \n",
    "        if ul:\n",
    "            r['children'] = dictify(ul, level=nextlevel+1)\n",
    "\n",
    "        result[key] = r\n",
    "    return result"
   ]
  },
  {
   "cell_type": "code",
   "execution_count": 139,
   "metadata": {},
   "outputs": [],
   "source": [
    "# data = dictify(ul)\n",
    "# list(ul.li.li.stripped_strings)"
   ]
  },
  {
   "cell_type": "code",
   "execution_count": 140,
   "metadata": {},
   "outputs": [],
   "source": [
    "theaters = {}\n",
    "for front, div in zip(fronts, content.find_all(\"div\", \"div-col columns column-width\")):\n",
    "    theaters[front] = dictify(div.ul)"
   ]
  },
  {
   "cell_type": "code",
   "execution_count": 141,
   "metadata": {},
   "outputs": [],
   "source": [
    "with open('all_battles.json', 'w') as f:\n",
    "    json.dump(theaters, f)"
   ]
  },
  {
   "cell_type": "code",
   "execution_count": null,
   "metadata": {},
   "outputs": [],
   "source": []
  }
 ],
 "metadata": {
  "kernelspec": {
   "display_name": "Python 3",
   "language": "python",
   "name": "python3"
  },
  "language_info": {
   "codemirror_mode": {
    "name": "ipython",
    "version": 3
   },
   "file_extension": ".py",
   "mimetype": "text/x-python",
   "name": "python",
   "nbconvert_exporter": "python",
   "pygments_lexer": "ipython3",
   "version": "3.6.5"
  }
 },
 "nbformat": 4,
 "nbformat_minor": 2
}
