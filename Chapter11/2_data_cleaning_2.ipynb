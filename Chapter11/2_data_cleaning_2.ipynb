{
 "cells": [
  {
   "cell_type": "code",
   "execution_count": 77,
   "metadata": {},
   "outputs": [],
   "source": [
    "%matplotlib inline\n",
    "import pylab as plt\n",
    "plt.style.use('fivethirtyeight')\n",
    "\n",
    "import pandas as pd\n",
    "import json"
   ]
  },
  {
   "cell_type": "code",
   "execution_count": 78,
   "metadata": {},
   "outputs": [],
   "source": [
    "data = pd.read_csv('./data/Eastern Front.csv')"
   ]
  },
  {
   "cell_type": "code",
   "execution_count": 79,
   "metadata": {},
   "outputs": [
    {
     "data": {
      "text/plain": [
       "(186, 23)"
      ]
     },
     "execution_count": 79,
     "metadata": {},
     "output_type": "execute_result"
    }
   ],
   "source": [
    "data.shape"
   ]
  },
  {
   "cell_type": "code",
   "execution_count": 80,
   "metadata": {},
   "outputs": [
    {
     "data": {
      "text/plain": [
       "Belligerents.allies                   object\n",
       "Belligerents.axis                     object\n",
       "Belligerents.third party              object\n",
       "Casualties and losses.allies          object\n",
       "Casualties and losses.axis            object\n",
       "Casualties and losses.third party     object\n",
       "Casualties and losses.total           object\n",
       "Commanders and leaders.allies         object\n",
       "Commanders and leaders.axis           object\n",
       "Commanders and leaders.third party    object\n",
       "Date                                  object\n",
       "Location                              object\n",
       "Result                                object\n",
       "Strength.allies                       object\n",
       "Strength.axis                         object\n",
       "Strength.third party                  object\n",
       "Strength.total                        object\n",
       "Territorial                           object\n",
       "level                                  int64\n",
       "name                                  object\n",
       "parent                                object\n",
       "time                                  object\n",
       "url                                   object\n",
       "dtype: object"
      ]
     },
     "execution_count": 80,
     "metadata": {},
     "output_type": "execute_result"
    }
   ],
   "source": [
    "data.dtypes"
   ]
  },
  {
   "cell_type": "markdown",
   "metadata": {},
   "source": [
    "# Battles only"
   ]
  },
  {
   "cell_type": "code",
   "execution_count": 81,
   "metadata": {},
   "outputs": [
    {
     "data": {
      "text/plain": [
       "(147, 23)"
      ]
     },
     "execution_count": 81,
     "metadata": {},
     "output_type": "execute_result"
    }
   ],
   "source": [
    "battles = data[data.level == 100]\n",
    "battles.shape"
   ]
  },
  {
   "cell_type": "code",
   "execution_count": 82,
   "metadata": {},
   "outputs": [],
   "source": [
    "columns = ['Location', 'name', 'Date', 'Result', 'Belligerents.allies',\n",
    "           'Belligerents.axis', 'Casualties and losses.allies', 'Casualties and losses.axis']"
   ]
  },
  {
   "cell_type": "code",
   "execution_count": 83,
   "metadata": {},
   "outputs": [
    {
     "data": {
      "text/plain": [
       "'Wilno, Second Polish Republic (now Vilnius, Lithuania)54°40′N 25°19′E\\ufeff / \\ufeff54.667°N 25.317°E\\ufeff / 54.667; 25.317Coordinates: 54°40′N 25°19′E\\ufeff / \\ufeff54.667°N 25.317°E\\ufeff / 54.667; 25.317'"
      ]
     },
     "execution_count": 83,
     "metadata": {},
     "output_type": "execute_result"
    }
   ],
   "source": [
    "battles['Location'].iloc[15]"
   ]
  },
  {
   "cell_type": "code",
   "execution_count": 84,
   "metadata": {},
   "outputs": [
    {
     "data": {
      "text/html": [
       "<div>\n",
       "<style scoped>\n",
       "    .dataframe tbody tr th:only-of-type {\n",
       "        vertical-align: middle;\n",
       "    }\n",
       "\n",
       "    .dataframe tbody tr th {\n",
       "        vertical-align: top;\n",
       "    }\n",
       "\n",
       "    .dataframe thead th {\n",
       "        text-align: right;\n",
       "    }\n",
       "</style>\n",
       "<table border=\"1\" class=\"dataframe\">\n",
       "  <thead>\n",
       "    <tr style=\"text-align: right;\">\n",
       "      <th></th>\n",
       "      <th>Location</th>\n",
       "      <th>name</th>\n",
       "      <th>Date</th>\n",
       "      <th>Result</th>\n",
       "      <th>Belligerents.allies</th>\n",
       "      <th>Belligerents.axis</th>\n",
       "      <th>Casualties and losses.allies</th>\n",
       "      <th>Casualties and losses.axis</th>\n",
       "    </tr>\n",
       "  </thead>\n",
       "  <tbody>\n",
       "    <tr>\n",
       "      <th>0</th>\n",
       "      <td>Westerplatte, harbor of Free City of Danzig54°...</td>\n",
       "      <td>Battle of Westerplatte</td>\n",
       "      <td>1–7 September 1939</td>\n",
       "      <td>German victory</td>\n",
       "      <td>Poland</td>\n",
       "      <td>Germany Danzig</td>\n",
       "      <td>15 deadat least 40 woundedRemainder captured</td>\n",
       "      <td>50 deadat least 150 wounded</td>\n",
       "    </tr>\n",
       "    <tr>\n",
       "      <th>1</th>\n",
       "      <td>Mokra, Kielce Voivodeship, Poland</td>\n",
       "      <td>Battle of Mokra</td>\n",
       "      <td>September 1, 1939</td>\n",
       "      <td>Polish victory</td>\n",
       "      <td>Germany</td>\n",
       "      <td>Poland</td>\n",
       "      <td>800 killed, missing, captured, or wounded50 ta...</td>\n",
       "      <td>500 killed, missing or wounded300 horsessevera...</td>\n",
       "    </tr>\n",
       "    <tr>\n",
       "      <th>2</th>\n",
       "      <td>Near Mława, Warsaw Voivodeship, Poland</td>\n",
       "      <td>Battle of Mlawa</td>\n",
       "      <td>1–3 September 1939</td>\n",
       "      <td>German victory</td>\n",
       "      <td>Germany</td>\n",
       "      <td>Poland</td>\n",
       "      <td>1,800 killed3,000 wounded1,000 missing72 tanks...</td>\n",
       "      <td>1,200 killed1,500 wounded</td>\n",
       "    </tr>\n",
       "    <tr>\n",
       "      <th>3</th>\n",
       "      <td>Near Tuchola Forest, Pomeranian Voivodeship, P...</td>\n",
       "      <td>Battle of Tuchola Forest</td>\n",
       "      <td>1–5 September 1939</td>\n",
       "      <td>German victory</td>\n",
       "      <td>Germany</td>\n",
       "      <td>Poland</td>\n",
       "      <td>506 killed \\n\\n743 wounded</td>\n",
       "      <td>1600 killed\\n750 wounded\\n\\nUnknown number cap...</td>\n",
       "    </tr>\n",
       "    <tr>\n",
       "      <th>4</th>\n",
       "      <td>Jordanów, Kraków Voivodeship, Poland</td>\n",
       "      <td>Battle of Jordanów</td>\n",
       "      <td>1–3 September 1939</td>\n",
       "      <td>Pyrrhic German victory</td>\n",
       "      <td>Poland</td>\n",
       "      <td>Germany</td>\n",
       "      <td>3+ tanks</td>\n",
       "      <td>70+ tanks and AFVs</td>\n",
       "    </tr>\n",
       "  </tbody>\n",
       "</table>\n",
       "</div>"
      ],
      "text/plain": [
       "                                            Location  \\\n",
       "0  Westerplatte, harbor of Free City of Danzig54°...   \n",
       "1                  Mokra, Kielce Voivodeship, Poland   \n",
       "2             Near Mława, Warsaw Voivodeship, Poland   \n",
       "3  Near Tuchola Forest, Pomeranian Voivodeship, P...   \n",
       "4               Jordanów, Kraków Voivodeship, Poland   \n",
       "\n",
       "                       name                Date                  Result  \\\n",
       "0    Battle of Westerplatte  1–7 September 1939          German victory   \n",
       "1           Battle of Mokra   September 1, 1939          Polish victory   \n",
       "2           Battle of Mlawa  1–3 September 1939          German victory   \n",
       "3  Battle of Tuchola Forest  1–5 September 1939          German victory   \n",
       "4        Battle of Jordanów  1–3 September 1939  Pyrrhic German victory   \n",
       "\n",
       "  Belligerents.allies Belligerents.axis  \\\n",
       "0              Poland    Germany Danzig   \n",
       "1             Germany            Poland   \n",
       "2             Germany            Poland   \n",
       "3             Germany            Poland   \n",
       "4              Poland           Germany   \n",
       "\n",
       "                        Casualties and losses.allies  \\\n",
       "0       15 deadat least 40 woundedRemainder captured   \n",
       "1  800 killed, missing, captured, or wounded50 ta...   \n",
       "2  1,800 killed3,000 wounded1,000 missing72 tanks...   \n",
       "3                         506 killed \\n\\n743 wounded   \n",
       "4                                           3+ tanks   \n",
       "\n",
       "                          Casualties and losses.axis  \n",
       "0                        50 deadat least 150 wounded  \n",
       "1  500 killed, missing or wounded300 horsessevera...  \n",
       "2                          1,200 killed1,500 wounded  \n",
       "3  1600 killed\\n750 wounded\\n\\nUnknown number cap...  \n",
       "4                                 70+ tanks and AFVs  "
      ]
     },
     "execution_count": 84,
     "metadata": {},
     "output_type": "execute_result"
    }
   ],
   "source": [
    "battles[columns].head()"
   ]
  },
  {
   "cell_type": "code",
   "execution_count": null,
   "metadata": {},
   "outputs": [],
   "source": []
  },
  {
   "cell_type": "markdown",
   "metadata": {},
   "source": [
    "# Location"
   ]
  },
  {
   "cell_type": "code",
   "execution_count": 9,
   "metadata": {},
   "outputs": [],
   "source": [
    "pattern = r'/ ([\\d|\\.]+); ([\\d|\\.]+)'"
   ]
  },
  {
   "cell_type": "code",
   "execution_count": 10,
   "metadata": {},
   "outputs": [],
   "source": [
    "# battles.iloc[9]['Location']"
   ]
  },
  {
   "cell_type": "code",
   "execution_count": 11,
   "metadata": {},
   "outputs": [
    {
     "name": "stderr",
     "output_type": "stream",
     "text": [
      "/Users/philippk/anaconda3/envs/py36/lib/python3.6/site-packages/pandas/core/frame.py:3391: SettingWithCopyWarning: \n",
      "A value is trying to be set on a copy of a slice from a DataFrame.\n",
      "Try using .loc[row_indexer,col_indexer] = value instead\n",
      "\n",
      "See the caveats in the documentation: http://pandas.pydata.org/pandas-docs/stable/indexing.html#indexing-view-versus-copy\n",
      "  self[k1] = value[k2]\n"
     ]
    }
   ],
   "source": [
    "battles[['Lattitude', 'Longitude']] = battles.Location.str.extract(pattern)"
   ]
  },
  {
   "cell_type": "code",
   "execution_count": 12,
   "metadata": {},
   "outputs": [
    {
     "name": "stderr",
     "output_type": "stream",
     "text": [
      "/Users/philippk/anaconda3/envs/py36/lib/python3.6/site-packages/ipykernel_launcher.py:2: SettingWithCopyWarning: \n",
      "A value is trying to be set on a copy of a slice from a DataFrame.\n",
      "Try using .loc[row_indexer,col_indexer] = value instead\n",
      "\n",
      "See the caveats in the documentation: http://pandas.pydata.org/pandas-docs/stable/indexing.html#indexing-view-versus-copy\n",
      "  \n"
     ]
    }
   ],
   "source": [
    "for col in  'Lattitude', 'Longitude':\n",
    "    battles[col] =  battles[col].astype(float)"
   ]
  },
  {
   "cell_type": "markdown",
   "metadata": {},
   "source": [
    "# Geocode"
   ]
  },
  {
   "cell_type": "code",
   "execution_count": 66,
   "metadata": {},
   "outputs": [
    {
     "data": {
      "text/plain": [
       "'78.2%'"
      ]
     },
     "execution_count": 66,
     "metadata": {},
     "output_type": "execute_result"
    }
   ],
   "source": [
    "f\"{(battles['Lattitude'].isnull().sum() / len(battles)):.1%}\""
   ]
  },
  {
   "cell_type": "markdown",
   "metadata": {},
   "source": [
    "So, we actually don't have coordinates for 78% of our battles, which is too hight. As an alternative, let's use the geocoding function we wrote in chapter 6! Of course, some addesses are obsolete, but most will, probably, get us to the coordinates"
   ]
  },
  {
   "cell_type": "code",
   "execution_count": 14,
   "metadata": {},
   "outputs": [],
   "source": [
    "from geocode import nominatim_geocode # copied the file from folder \"Chapter06\""
   ]
  },
  {
   "cell_type": "code",
   "execution_count": 15,
   "metadata": {},
   "outputs": [
    {
     "name": "stderr",
     "output_type": "stream",
     "text": [
      "0it [00:00, ?it/s]\n"
     ]
    }
   ],
   "source": [
    "from tqdm import tqdm, tqdm_notebook\n",
    "tqdm().pandas()"
   ]
  },
  {
   "cell_type": "code",
   "execution_count": 16,
   "metadata": {},
   "outputs": [],
   "source": [
    "geo_mask = battles['Lattitude'].isnull()"
   ]
  },
  {
   "cell_type": "code",
   "execution_count": 47,
   "metadata": {},
   "outputs": [
    {
     "data": {
      "text/plain": [
       "46                                                   NaN\n",
       "49     Southern shore of Lake Ladoga, near present-da...\n",
       "54                  Kharkov, Ukrainian SSR, Soviet Union\n",
       "99     175 km sector of the front between Uman and Ki...\n",
       "27     Brest, Belarusian SSR, Soviet Union (nominally...\n",
       "133                                near Radzymin, Poland\n",
       "160                       Poznań and nearby area, Poland\n",
       "25                                      Petsamo, Finland\n",
       "132                       Western Ukraine/Eastern Poland\n",
       "148    West Estonian archipelago (Moonsund archipelag...\n",
       "126                       Eastern Poland/Western Belarus\n",
       "56         Crimean Peninsula, Russian SFSR, Soviet Union\n",
       "154                         Budapest, Kingdom of Hungary\n",
       "7                           Piotrków Trybunalski, Poland\n",
       "105       Leningrad region, Soviet Union; Narva, Estonia\n",
       "Name: Location, dtype: object"
      ]
     },
     "execution_count": 47,
     "metadata": {},
     "output_type": "execute_result"
    }
   ],
   "source": [
    "battles.loc[geo_mask, 'Location'].sample(15, random_state=2019)"
   ]
  },
  {
   "cell_type": "code",
   "execution_count": 49,
   "metadata": {},
   "outputs": [],
   "source": [
    "location = battles['Location'].str.lower().str.replace('near ', '')"
   ]
  },
  {
   "cell_type": "code",
   "execution_count": 62,
   "metadata": {},
   "outputs": [],
   "source": [
    "replacements = {\n",
    "    'Ukrainian SSR, Soviet Union': 'Ukraine',\n",
    "    'Russian SFSR, Soviet Union': 'Russia',\n",
    "    'Russian SFSR': 'Russia',\n",
    "    'Belorussian SSR': 'Belorus',\n",
    "    'Soviet Union': '',\n",
    "    'USSR': '',\n",
    "    ', Poland (now Ukraine)': 'Ukraine',\n",
    "    'east prussia (now kaliningrad oblast)': 'Kaliningrad Oblast, Russia',\n",
    "    ', czechoslovakia': ', czech republic',\n",
    "    'königsberg, germany (now: kaliningrad, russia)': 'Kaliningrad Oblast, Russia',\n",
    "    'lwów, lwów voivodeship, poland': 'Lvov, Ukraine',\n",
    "    'leningrad region, ; narva, estonia': 'Narva, Estonia',\n",
    "    'Kingdom of Hungary': 'Hungary',\n",
    "    'odessa region, ukraine': 'Odessa, Ukraine'\n",
    "}"
   ]
  },
  {
   "cell_type": "code",
   "execution_count": 51,
   "metadata": {},
   "outputs": [],
   "source": [
    "for k, v in replacements.items():\n",
    "    location = location.str.replace(k.lower(), v.lower(), regex=False)"
   ]
  },
  {
   "cell_type": "code",
   "execution_count": 52,
   "metadata": {},
   "outputs": [],
   "source": [
    "def vectorized_geocode(x):\n",
    "    result = nominatim_geocode(x)\n",
    "    if len(result) == 0:\n",
    "        return dict()\n",
    "    return {k:result[0][k] for k in ('lat', 'lon', 'importance', 'display_name')}"
   ]
  },
  {
   "cell_type": "code",
   "execution_count": 53,
   "metadata": {},
   "outputs": [
    {
     "name": "stderr",
     "output_type": "stream",
     "text": [
      "100%|██████████| 115/115 [02:42<00:00,  1.44s/it]\n"
     ]
    }
   ],
   "source": [
    "response = location[geo_mask].progress_apply(vectorized_geocode)"
   ]
  },
  {
   "cell_type": "code",
   "execution_count": 54,
   "metadata": {},
   "outputs": [
    {
     "data": {
      "text/plain": [
       "{'lat': '50.85983',\n",
       " 'lon': '20.576839',\n",
       " 'importance': 0.5,\n",
       " 'display_name': 'Mokra, Biesaki, Kielce, Świętokrzyskie Voivodeship, 25-707, Poland'}"
      ]
     },
     "execution_count": 54,
     "metadata": {},
     "output_type": "execute_result"
    }
   ],
   "source": [
    "response.iloc[0]"
   ]
  },
  {
   "cell_type": "code",
   "execution_count": 55,
   "metadata": {},
   "outputs": [
    {
     "data": {
      "text/plain": [
       "'Mokra, Kielce Voivodeship, Poland'"
      ]
     },
     "execution_count": 55,
     "metadata": {},
     "output_type": "execute_result"
    }
   ],
   "source": [
    "battles.loc[geo_mask, 'Location'].iloc[0]"
   ]
  },
  {
   "cell_type": "code",
   "execution_count": 56,
   "metadata": {},
   "outputs": [],
   "source": [
    "geo_df = pd.DataFrame(response.tolist(), index = response.index)\n",
    "geo_df.rename(columns={'lat': 'Lattitude', 'lon': ' Longitude'}, inplace=True)"
   ]
  },
  {
   "cell_type": "code",
   "execution_count": 57,
   "metadata": {},
   "outputs": [],
   "source": [
    "rmask = geo_df['importance'].isnull()"
   ]
  },
  {
   "cell_type": "code",
   "execution_count": 63,
   "metadata": {},
   "outputs": [
    {
     "data": {
      "text/plain": [
       "0.2585034013605442"
      ]
     },
     "execution_count": 63,
     "metadata": {},
     "output_type": "execute_result"
    }
   ],
   "source": [
    "rmask.sum() / len(battles)\n"
   ]
  },
  {
   "cell_type": "code",
   "execution_count": 61,
   "metadata": {},
   "outputs": [
    {
     "data": {
      "text/plain": [
       "2                      mława, warsaw voivodeship, poland\n",
       "4                   jordanów, kraków voivodeship, poland\n",
       "6                                   wizna, łomża, poland\n",
       "8          hel peninsula, pomeranian voivodeship, poland\n",
       "18                                          szackukraine\n",
       "19                             wytyczno, włodawa, poland\n",
       "27     brest, belarusian ssr,  (nominally part of pol...\n",
       "28              byelorussian soviet socialist republic, \n",
       "30                                    baltic countries, \n",
       "33                   finland, karelia, and murmansk area\n",
       "35               petsamo, litsa river, rybachy peninsula\n",
       "36              salla, kestenga, alakurtti, verman river\n",
       "38                                 uman, western ukraine\n",
       "40                                odessa region, ukraine\n",
       "49     southern shore of lake ladoga, present-day sin...\n",
       "58                                rostov-on-don region, \n",
       "64                               demyansk, russian ssr, \n",
       "65        izium/barvenkovo area, kharkov oblast, ukraine\n",
       "75               rzhev and velikie luki salients, russia\n",
       "81      krasny bor, present-day saint petersburg, russia\n",
       "83                                  ostrogozhsk, rossosh\n",
       "84                                voronezh, kastornoye, \n",
       "90                            lenino, byelorussian ssr, \n",
       "99     175 km sector of the front between uman and ki...\n",
       "100                     kamianets-podilskyi / tarnopol, \n",
       "102    southern leningrad region, novgorod, pskov[1] ...\n",
       "113                                    kerch peninsula, \n",
       "117                 karelo-finnish ssr, leningrad oblast\n",
       "126                       eastern poland/western belarus\n",
       "132                       western ukraine/eastern poland\n",
       "144       dukla pass, present-day slovakia-poland border\n",
       "148    west estonian archipelago (moonsund archipelag...\n",
       "160                       poznań and nearby area, poland\n",
       "168                               upper silesia, germany\n",
       "171    kolberg, pomerania, germany(now kołobrzeg, pol...\n",
       "173           drava river valley and transdanubian hills\n",
       "177                                 vienna, nazi germany\n",
       "183         bautzen, germany and surrounding rural areas\n",
       "Name: Location, dtype: object"
      ]
     },
     "execution_count": 61,
     "metadata": {},
     "output_type": "execute_result"
    }
   ],
   "source": [
    "location[geo_mask].loc[rmask]"
   ]
  },
  {
   "cell_type": "code",
   "execution_count": 88,
   "metadata": {},
   "outputs": [
    {
     "data": {
      "text/plain": [
       "'sambia, east prussia (now kaliningrad oblast)'"
      ]
     },
     "execution_count": 88,
     "metadata": {},
     "output_type": "execute_result"
    }
   ],
   "source": [
    "location.loc[178]"
   ]
  },
  {
   "cell_type": "markdown",
   "metadata": {},
   "source": [
    "## Time"
   ]
  },
  {
   "cell_type": "code",
   "execution_count": 161,
   "metadata": {},
   "outputs": [
    {
     "data": {
      "text/plain": [
       "Timestamp('1939-09-01 00:00:00')"
      ]
     },
     "execution_count": 161,
     "metadata": {},
     "output_type": "execute_result"
    }
   ],
   "source": [
    "# pd.to_datetime('September 1939')"
   ]
  },
  {
   "cell_type": "code",
   "execution_count": 170,
   "metadata": {},
   "outputs": [
    {
     "data": {
      "text/plain": [
       "'3 November 1943 – 13 November 1943(Offensive operation) 13 November 1943 – 22 December 1943(Defensive operation)'"
      ]
     },
     "execution_count": 170,
     "metadata": {},
     "output_type": "execute_result"
    }
   ],
   "source": [
    "battles.loc[94, 'Date']"
   ]
  },
  {
   "cell_type": "code",
   "execution_count": 173,
   "metadata": {},
   "outputs": [],
   "source": [
    "d = ('January', 'February', 'March', 'April', 'May', \n",
    "     'June', \"July\",' August', 'September', 'October', 'November', 'December')\n",
    "\n",
    "month_pattern = r'(' + \"|\".join(d) + ')'"
   ]
  },
  {
   "cell_type": "code",
   "execution_count": 174,
   "metadata": {},
   "outputs": [],
   "source": [
    "year_pattern = r'(19\\d\\d)'"
   ]
  },
  {
   "cell_type": "code",
   "execution_count": 196,
   "metadata": {},
   "outputs": [],
   "source": [
    "year_extracted = battles['Date'].str.extractall(year_pattern).unstack()"
   ]
  },
  {
   "cell_type": "code",
   "execution_count": 198,
   "metadata": {},
   "outputs": [
    {
     "data": {
      "text/html": [
       "<div>\n",
       "<style scoped>\n",
       "    .dataframe tbody tr th:only-of-type {\n",
       "        vertical-align: middle;\n",
       "    }\n",
       "\n",
       "    .dataframe tbody tr th {\n",
       "        vertical-align: top;\n",
       "    }\n",
       "\n",
       "    .dataframe thead tr th {\n",
       "        text-align: left;\n",
       "    }\n",
       "</style>\n",
       "<table border=\"1\" class=\"dataframe\">\n",
       "  <thead>\n",
       "    <tr>\n",
       "      <th></th>\n",
       "      <th colspan=\"4\" halign=\"left\">0</th>\n",
       "    </tr>\n",
       "    <tr>\n",
       "      <th>match</th>\n",
       "      <th>0</th>\n",
       "      <th>1</th>\n",
       "      <th>2</th>\n",
       "      <th>3</th>\n",
       "    </tr>\n",
       "  </thead>\n",
       "  <tbody>\n",
       "    <tr>\n",
       "      <th>94</th>\n",
       "      <td>1943</td>\n",
       "      <td>1943</td>\n",
       "      <td>1943</td>\n",
       "      <td>1943</td>\n",
       "    </tr>\n",
       "  </tbody>\n",
       "</table>\n",
       "</div>"
      ],
      "text/plain": [
       "          0                  \n",
       "match     0     1     2     3\n",
       "94     1943  1943  1943  1943"
      ]
     },
     "execution_count": 198,
     "metadata": {},
     "output_type": "execute_result"
    }
   ],
   "source": [
    "# len(d.iloc[:, -1].notnull())\n",
    "year_extracted[year_extracted.iloc[:, -1].notnull()]"
   ]
  },
  {
   "cell_type": "code",
   "execution_count": 195,
   "metadata": {},
   "outputs": [],
   "source": [
    "# d[d.iloc[:, -1].notnull()]"
   ]
  },
  {
   "cell_type": "code",
   "execution_count": 199,
   "metadata": {},
   "outputs": [
    {
     "data": {
      "text/plain": [
       "'3 November 1943 – 13 November 1943(Offensive operation) 13 November 1943 – 22 December 1943(Defensive operation)'"
      ]
     },
     "execution_count": 199,
     "metadata": {},
     "output_type": "execute_result"
    }
   ],
   "source": [
    "battles.loc[94, 'Date']"
   ]
  },
  {
   "cell_type": "code",
   "execution_count": 200,
   "metadata": {},
   "outputs": [],
   "source": [
    "year_extracted = year_extracted.iloc[:, :2]"
   ]
  },
  {
   "cell_type": "code",
   "execution_count": 212,
   "metadata": {},
   "outputs": [
    {
     "data": {
      "text/plain": [
       "   match\n",
       "0  0        1943\n",
       "   1        1943\n",
       "Name: 94, dtype: object"
      ]
     },
     "execution_count": 212,
     "metadata": {},
     "output_type": "execute_result"
    }
   ],
   "source": [
    "year_extracted"
   ]
  },
  {
   "cell_type": "code",
   "execution_count": 209,
   "metadata": {},
   "outputs": [
    {
     "name": "stderr",
     "output_type": "stream",
     "text": [
      "/Users/philippk/anaconda3/envs/py36/lib/python3.6/site-packages/pandas/core/indexing.py:635: SettingWithCopyWarning: \n",
      "A value is trying to be set on a copy of a slice from a DataFrame.\n",
      "Try using .loc[row_indexer,col_indexer] = value instead\n",
      "\n",
      "See the caveats in the documentation: http://pandas.pydata.org/pandas-docs/stable/indexing.html#indexing-view-versus-copy\n",
      "  self.obj[item_labels[indexer[info_axis]]] = value\n"
     ]
    }
   ],
   "source": [
    "year_extracted.iloc[:, 1] = year_extracted.iloc[:, 1].fillna(year_extracted.iloc[:, 0])"
   ]
  },
  {
   "cell_type": "code",
   "execution_count": 214,
   "metadata": {},
   "outputs": [],
   "source": [
    "month_extracted = battles['Date'].str.extractall(month_pattern).unstack()"
   ]
  },
  {
   "cell_type": "code",
   "execution_count": 219,
   "metadata": {},
   "outputs": [],
   "source": [
    "for i in range(2, month_extracted.shape[1]+1):\n",
    "    month_extracted.iloc[:, -1].fillna(month_extracted.iloc[:, -i], inplace=True)"
   ]
  },
  {
   "cell_type": "code",
   "execution_count": 221,
   "metadata": {},
   "outputs": [],
   "source": [
    "month_extracted = month_extracted.iloc[:, [0, -1]]"
   ]
  },
  {
   "cell_type": "code",
   "execution_count": 235,
   "metadata": {},
   "outputs": [],
   "source": [
    "a = b = 2"
   ]
  },
  {
   "cell_type": "code",
   "execution_count": 251,
   "metadata": {},
   "outputs": [
    {
     "name": "stderr",
     "output_type": "stream",
     "text": [
      "/Users/philippk/anaconda3/envs/py36/lib/python3.6/site-packages/pandas/core/indexing.py:1017: FutureWarning: \n",
      "Passing list-likes to .loc or [] with any missing label will raise\n",
      "KeyError in the future, you can use .reindex() as an alternative.\n",
      "\n",
      "See the documentation here:\n",
      "https://pandas.pydata.org/pandas-docs/stable/indexing.html#deprecate-loc-reindex-listlike\n",
      "  return getattr(section, self.name)[new_key]\n",
      "/Users/philippk/anaconda3/envs/py36/lib/python3.6/site-packages/ipykernel_launcher.py:6: SettingWithCopyWarning: \n",
      "A value is trying to be set on a copy of a slice from a DataFrame.\n",
      "Try using .loc[row_indexer,col_indexer] = value instead\n",
      "\n",
      "See the caveats in the documentation: http://pandas.pydata.org/pandas-docs/stable/indexing.html#indexing-view-versus-copy\n",
      "  \n"
     ]
    }
   ],
   "source": [
    "year_extracted.columns = month_extracted.columns = ['start', 'end']\n",
    "I = battles.index\n",
    "cols = 'start', 'end'\n",
    "\n",
    "for col in cols:\n",
    "    battles[col] = pd.to_datetime(month_extracted.loc[I, col] + ' ' + year_extracted.loc[I, col])"
   ]
  },
  {
   "cell_type": "markdown",
   "metadata": {},
   "source": [
    "## Casualties"
   ]
  },
  {
   "cell_type": "code",
   "execution_count": 88,
   "metadata": {},
   "outputs": [
    {
     "data": {
      "text/plain": [
       "'15 deadat least 40 woundedRemainder captured'"
      ]
     },
     "execution_count": 88,
     "metadata": {},
     "output_type": "execute_result"
    }
   ],
   "source": [
    "battles['Casualties and losses.allies'].iloc[0]"
   ]
  },
  {
   "cell_type": "code",
   "execution_count": 89,
   "metadata": {},
   "outputs": [],
   "source": [
    "# all_matched = battles['Casualties and losses.allies'].str.extractall(r'([\\d|,]+)\\s*killed').unstack()\n",
    "# for i in range(all_matched.shape[1]):\n",
    "#     all_matched.iloc[:, i] = all_matched.iloc[:, i].fillna('').str.replace(',', '').replace('', pd.np.nan).astype(float)"
   ]
  },
  {
   "cell_type": "code",
   "execution_count": 90,
   "metadata": {},
   "outputs": [],
   "source": [
    "# all_matched.sum(1)"
   ]
  },
  {
   "cell_type": "code",
   "execution_count": 112,
   "metadata": {},
   "outputs": [],
   "source": [
    "digit_pattern = '([\\d|,]+)\\s*[{words}]'\n",
    "\n",
    "keywords = { 'killed': ['dead', 'killed', 'men'], \n",
    "             'wounded': ['wounded', 'sick'], \n",
    "             'captured': ['captured', 'prisoners'],\n",
    "             'tanks': ['tank'],\n",
    "             'airplane': ['airplane'],\n",
    "             'guns': ['artillery', 'gun'],\n",
    "             'ships': ['warships', 'boats'],\n",
    "             'submarines': ['submarines']\n",
    "}\n"
   ]
  },
  {
   "cell_type": "code",
   "execution_count": null,
   "metadata": {},
   "outputs": [],
   "source": []
  },
  {
   "cell_type": "code",
   "execution_count": null,
   "metadata": {},
   "outputs": [],
   "source": []
  },
  {
   "cell_type": "code",
   "execution_count": 113,
   "metadata": {},
   "outputs": [],
   "source": [
    "R = column.str.extractall(pattern).unstack()"
   ]
  },
  {
   "cell_type": "code",
   "execution_count": 114,
   "metadata": {},
   "outputs": [],
   "source": [
    "def _shy_convert_numeric(v):\n",
    "    if pd.isnull(v) or v == ',':\n",
    "        return 0\n",
    "    \n",
    "    return int(v.replace(',', ''))\n",
    "    "
   ]
  },
  {
   "cell_type": "code",
   "execution_count": 115,
   "metadata": {},
   "outputs": [],
   "source": [
    "# R.applymap(_shy_convert_numeric).sum(1)"
   ]
  },
  {
   "cell_type": "code",
   "execution_count": null,
   "metadata": {},
   "outputs": [],
   "source": []
  },
  {
   "cell_type": "code",
   "execution_count": 116,
   "metadata": {},
   "outputs": [
    {
     "name": "stdout",
     "output_type": "stream",
     "text": [
      "([\\d|,]+)\\s*[dead|killed|men]\n",
      "([\\d|,]+)\\s*[wounded|sick]\n",
      "([\\d|,]+)\\s*[captured|prisoners]\n",
      "([\\d|,]+)\\s*[tank]\n",
      "([\\d|,]+)\\s*[airplane]\n",
      "([\\d|,]+)\\s*[artillery|gun]\n",
      "([\\d|,]+)\\s*[warships|boats]\n",
      "([\\d|,]+)\\s*[submarines]\n",
      "([\\d|,]+)\\s*[dead|killed|men]\n",
      "([\\d|,]+)\\s*[wounded|sick]\n",
      "([\\d|,]+)\\s*[captured|prisoners]\n",
      "([\\d|,]+)\\s*[tank]\n",
      "([\\d|,]+)\\s*[airplane]\n",
      "([\\d|,]+)\\s*[artillery|gun]\n",
      "([\\d|,]+)\\s*[warships|boats]\n",
      "([\\d|,]+)\\s*[submarines]\n"
     ]
    }
   ],
   "source": [
    "results = {\n",
    "'allies' : pd.DataFrame(index=battles.index, columns=keywords.keys()),  # empty dataframes with the same index\n",
    "'axis' : pd.DataFrame(index=battles.index, columns=keywords.keys())\n",
    "}\n",
    "\n",
    "for name, edf in results.items():\n",
    "    column = battles[f'Casualties and losses.{name}']\n",
    "    for tp, keys in keywords.items():\n",
    "        pattern = digit_pattern.format(words=\"|\".join(keys))\n",
    "        print(pattern)\n",
    "        extracted = column.str.extractall(pattern).unstack()\n",
    "        edf[tp] = extracted.applymap(_shy_convert_numeric).sum(1)\n",
    "    results[name] = edf.fillna(0).astype(int)"
   ]
  },
  {
   "cell_type": "code",
   "execution_count": 117,
   "metadata": {},
   "outputs": [
    {
     "data": {
      "text/html": [
       "<div>\n",
       "<style scoped>\n",
       "    .dataframe tbody tr th:only-of-type {\n",
       "        vertical-align: middle;\n",
       "    }\n",
       "\n",
       "    .dataframe tbody tr th {\n",
       "        vertical-align: top;\n",
       "    }\n",
       "\n",
       "    .dataframe thead th {\n",
       "        text-align: right;\n",
       "    }\n",
       "</style>\n",
       "<table border=\"1\" class=\"dataframe\">\n",
       "  <thead>\n",
       "    <tr style=\"text-align: right;\">\n",
       "      <th></th>\n",
       "      <th>killed</th>\n",
       "      <th>wounded</th>\n",
       "      <th>captured</th>\n",
       "      <th>tanks</th>\n",
       "      <th>airplane</th>\n",
       "      <th>guns</th>\n",
       "      <th>ships</th>\n",
       "      <th>submarines</th>\n",
       "    </tr>\n",
       "  </thead>\n",
       "  <tbody>\n",
       "    <tr>\n",
       "      <th>0</th>\n",
       "      <td>50</td>\n",
       "      <td>200</td>\n",
       "      <td>50</td>\n",
       "      <td>0</td>\n",
       "      <td>0</td>\n",
       "      <td>0</td>\n",
       "      <td>150</td>\n",
       "      <td>0</td>\n",
       "    </tr>\n",
       "    <tr>\n",
       "      <th>1</th>\n",
       "      <td>500</td>\n",
       "      <td>500</td>\n",
       "      <td>1</td>\n",
       "      <td>501</td>\n",
       "      <td>0</td>\n",
       "      <td>1</td>\n",
       "      <td>301</td>\n",
       "      <td>0</td>\n",
       "    </tr>\n",
       "    <tr>\n",
       "      <th>2</th>\n",
       "      <td>1200</td>\n",
       "      <td>2700</td>\n",
       "      <td>0</td>\n",
       "      <td>1200</td>\n",
       "      <td>0</td>\n",
       "      <td>0</td>\n",
       "      <td>1500</td>\n",
       "      <td>0</td>\n",
       "    </tr>\n",
       "    <tr>\n",
       "      <th>3</th>\n",
       "      <td>1600</td>\n",
       "      <td>2350</td>\n",
       "      <td>0</td>\n",
       "      <td>1600</td>\n",
       "      <td>0</td>\n",
       "      <td>0</td>\n",
       "      <td>750</td>\n",
       "      <td>0</td>\n",
       "    </tr>\n",
       "    <tr>\n",
       "      <th>4</th>\n",
       "      <td>0</td>\n",
       "      <td>0</td>\n",
       "      <td>0</td>\n",
       "      <td>0</td>\n",
       "      <td>0</td>\n",
       "      <td>0</td>\n",
       "      <td>0</td>\n",
       "      <td>0</td>\n",
       "    </tr>\n",
       "  </tbody>\n",
       "</table>\n",
       "</div>"
      ],
      "text/plain": [
       "   killed  wounded  captured  tanks  airplane  guns  ships  submarines\n",
       "0      50      200        50      0         0     0    150           0\n",
       "1     500      500         1    501         0     1    301           0\n",
       "2    1200     2700         0   1200         0     0   1500           0\n",
       "3    1600     2350         0   1600         0     0    750           0\n",
       "4       0        0         0      0         0     0      0           0"
      ]
     },
     "execution_count": 117,
     "metadata": {},
     "output_type": "execute_result"
    }
   ],
   "source": [
    "results['axis'].head(5)"
   ]
  },
  {
   "cell_type": "code",
   "execution_count": 120,
   "metadata": {},
   "outputs": [
    {
     "data": {
      "text/plain": [
       "'500 killed, missing or wounded300 horsesseveral guns1 tankette'"
      ]
     },
     "execution_count": 120,
     "metadata": {},
     "output_type": "execute_result"
    }
   ],
   "source": [
    "battles.loc[[1], 'Casualties and losses.axis'].iloc[0]"
   ]
  },
  {
   "cell_type": "code",
   "execution_count": 123,
   "metadata": {},
   "outputs": [
    {
     "data": {
      "text/html": [
       "<div>\n",
       "<style scoped>\n",
       "    .dataframe tbody tr th:only-of-type {\n",
       "        vertical-align: middle;\n",
       "    }\n",
       "\n",
       "    .dataframe tbody tr th {\n",
       "        vertical-align: top;\n",
       "    }\n",
       "\n",
       "    .dataframe thead th {\n",
       "        text-align: right;\n",
       "    }\n",
       "</style>\n",
       "<table border=\"1\" class=\"dataframe\">\n",
       "  <thead>\n",
       "    <tr style=\"text-align: right;\">\n",
       "      <th></th>\n",
       "      <th></th>\n",
       "      <th>0</th>\n",
       "    </tr>\n",
       "    <tr>\n",
       "      <th></th>\n",
       "      <th>match</th>\n",
       "      <th></th>\n",
       "    </tr>\n",
       "  </thead>\n",
       "  <tbody>\n",
       "    <tr>\n",
       "      <th rowspan=\"2\" valign=\"top\">1</th>\n",
       "      <th>0</th>\n",
       "      <td>500</td>\n",
       "    </tr>\n",
       "    <tr>\n",
       "      <th>1</th>\n",
       "      <td>1</td>\n",
       "    </tr>\n",
       "  </tbody>\n",
       "</table>\n",
       "</div>"
      ],
      "text/plain": [
       "           0\n",
       "  match     \n",
       "1 0      500\n",
       "  1        1"
      ]
     },
     "execution_count": 123,
     "metadata": {},
     "output_type": "execute_result"
    }
   ],
   "source": [
    "battles.loc[[1], 'Casualties and losses.axis'].str.extractall('([\\d|\\,]+)\\s[tank]')"
   ]
  },
  {
   "cell_type": "code",
   "execution_count": 344,
   "metadata": {},
   "outputs": [],
   "source": [
    "results['old_metrics'] = battles\n",
    "new_dataset = pd.concat(results, axis=1)"
   ]
  },
  {
   "cell_type": "code",
   "execution_count": 346,
   "metadata": {},
   "outputs": [],
   "source": [
    "new_dataset.to_csv('./data/EF_battles.csv')"
   ]
  },
  {
   "cell_type": "code",
   "execution_count": null,
   "metadata": {},
   "outputs": [],
   "source": []
  }
 ],
 "metadata": {
  "kernelspec": {
   "display_name": "Python 3",
   "language": "python",
   "name": "python3"
  },
  "language_info": {
   "codemirror_mode": {
    "name": "ipython",
    "version": 3
   },
   "file_extension": ".py",
   "mimetype": "text/x-python",
   "name": "python",
   "nbconvert_exporter": "python",
   "pygments_lexer": "ipython3",
   "version": "3.6.5"
  }
 },
 "nbformat": 4,
 "nbformat_minor": 2
}
